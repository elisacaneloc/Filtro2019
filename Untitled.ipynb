{
 "cells": [
  {
   "cell_type": "code",
   "execution_count": 2,
   "metadata": {},
   "outputs": [],
   "source": [
    "%matplotlib inline"
   ]
  },
  {
   "cell_type": "code",
   "execution_count": 15,
   "metadata": {},
   "outputs": [],
   "source": [
    "import medicion as md\n",
    "import numpy as np\n",
    "from scipy.stats import kstest\n",
    "import matplotlib.pyplot as plt\n",
    "from scipy.optimize import curve_fit\n",
    "from scipy.stats import kstest"
   ]
  },
  {
   "cell_type": "code",
   "execution_count": 478,
   "metadata": {},
   "outputs": [],
   "source": [
    "def model(x,a,b,c,d):\n",
    "    return a*np.exp(-x*b+d) + c"
   ]
  },
  {
   "cell_type": "code",
   "execution_count": 269,
   "metadata": {},
   "outputs": [],
   "source": [
    "def model2(x,a,b):\n",
    "    return a * np.sqrt(-(xn)) + b"
   ]
  },
  {
   "cell_type": "code",
   "execution_count": 319,
   "metadata": {},
   "outputs": [
    {
     "data": {
      "text/plain": [
       "(-1, 20)"
      ]
     },
     "execution_count": 319,
     "metadata": {},
     "output_type": "execute_result"
    },
    {
     "data": {
      "image/png": "[encoded data removed]",
      "text/plain": [
       "<Figure size 432x288 with 1 Axes>"
      ]
     },
     "metadata": {
      "needs_background": "light"
     },
     "output_type": "display_data"
    }
   ],
   "source": [
    "x = np.linspace(-1,1,100)\n",
    "y = 10*np.exp(-x*4)\n",
    "plt.plot(x,y)\n",
    "plt.ylim(-1,20)"
   ]
  },
  {
   "cell_type": "code",
   "execution_count": 251,
   "metadata": {},
   "outputs": [
    {
     "name": "stderr",
     "output_type": "stream",
     "text": [
      "C:\\Users\\Elisa Canelo\\Anaconda3\\lib\\site-packages\\ipykernel_launcher.py:4: RuntimeWarning: invalid value encountered in sqrt\n",
      "  after removing the cwd from sys.path.\n"
     ]
    },
    {
     "data": {
      "text/plain": [
       "[<matplotlib.lines.Line2D at 0x1cb36d75358>]"
      ]
     },
     "execution_count": 251,
     "metadata": {},
     "output_type": "execute_result"
    },
    {
     "data": {
      "image/png": "[encoded data removed]",
      "text/plain": [
       "<Figure size 432x288 with 1 Axes>"
      ]
     },
     "metadata": {
      "needs_background": "light"
     },
     "output_type": "display_data"
    }
   ],
   "source": [
    "x = np.linspace(-, 5, 100)\n",
    "#xn = np.linspace(-5,0,50)\n",
    "#xp = np.linspace(0,5,50)\n",
    "y = 1 * np.sqrt((np.absolute(x)*1)) + 1 * np.exp(-x*1)\n",
    "plt.plot(x,y)"
   ]
  },
  {
   "cell_type": "code",
   "execution_count": 247,
   "metadata": {},
   "outputs": [
    {
     "data": {
      "text/plain": [
       "[<matplotlib.lines.Line2D at 0x1cb36cb5dd8>]"
      ]
     },
     "execution_count": 247,
     "metadata": {},
     "output_type": "execute_result"
    },
    {
     "data": {
      "image/png": "[encoded data removed]",
      "text/plain": [
       "<Figure size 432x288 with 1 Axes>"
      ]
     },
     "metadata": {
      "needs_background": "light"
     },
     "output_type": "display_data"
    }
   ],
   "source": [
    "x = np.linspace(0, 100, 100)\n",
    "plt.plot(x,0.1*np.exp(-x*0.3))"
   ]
  },
  {
   "cell_type": "code",
   "execution_count": 440,
   "metadata": {},
   "outputs": [],
   "source": [
    "D, C, Vbias, Speed = md.readmeasure('C:/Users/Elisa Canelo/Documents/GitHub/Filtro2019/molecule/scan150522_7_{0}.dat',109)"
   ]
  },
  {
   "cell_type": "code",
   "execution_count": 441,
   "metadata": {},
   "outputs": [
    {
     "data": {
      "text/plain": [
       "array([-352.296774, -352.258065, -352.219356, ...,  235.432257,\n",
       "        235.470969,  235.509678])"
      ]
     },
     "execution_count": 441,
     "metadata": {},
     "output_type": "execute_result"
    }
   ],
   "source": [
    "D[1]"
   ]
  },
  {
   "cell_type": "code",
   "execution_count": 447,
   "metadata": {},
   "outputs": [],
   "source": [
    "x_data = D[1]\n",
    "y_data = C[1]\n",
    "data=np.zeros((len(x_data),2))\n",
    "for i in range(len(x_data)):\n",
    "    data[i][0] = x_data[i]\n",
    "    data[i][1] = y_data[i]\n",
    "#print(len(x_data))\n",
    "#rint(len(y_data))\n",
    "len(data)\n",
    "data_quiero = []\n",
    "for i in range(len(x_data)):\n",
    "    if 2>data[i][0]>-0:\n",
    "        data_quiero.append(data[i])"
   ]
  },
  {
   "cell_type": "code",
   "execution_count": 448,
   "metadata": {},
   "outputs": [
    {
     "name": "stdout",
     "output_type": "stream",
     "text": [
      "[array([0.038709  , 0.66020138]), array([0.077421  , 0.37571167]), array([0.11613   , 0.44892364]), array([0.154839  , 0.40409268]), array([0.193548  , 0.44327403]), array([0.232257  , 0.37416127]), array([0.270969  , 0.33839142]), array([0.309678  , 0.16630474]), array([0.348387 , 0.1859289]), array([0.387096  , 0.11829107]), array([0.425808  , 0.11427891]), array([0.464517  , 0.18063688]), array([0.503226 , 0.1752117]), array([0.541935  , 0.17218192]), array([0.580644 , 0.1938012]), array([0.619356 , 0.1054735]), array([0.658065  , 0.04397076]), array([0.696774  , 0.07632632]), array([0.735483  , 0.09742826]), array([0.774195  , 0.05246973]), array([0.812904  , 0.04048973]), array([0.851613  , 0.04608676]), array([0.890322  , 0.05598287]), array([0.929031  , 0.05090189]), array([0.967743  , 0.03996989]), array([1.006452  , 0.03817035]), array([1.045161  , 0.04549913]), array([1.08387   , 0.05565834]), array([1.122582  , 0.06271594]), array([1.161291 , 0.0703536]), array([1.2       , 0.07954134]), array([1.238709  , 0.07125591]), array([1.277421  , 0.06406417]), array([1.31613   , 0.06806576]), array([1.354839  , 0.06783751]), array([1.393548  , 0.06099557]), array([1.432257  , 0.05848313]), array([1.470969  , 0.05409438]), array([1.509678  , 0.05462036]), array([1.548387  , 0.06084392]), array([1.587096  , 0.06245792]), array([1.625808  , 0.05291741]), array([1.664517 , 0.0496041]), array([1.703226  , 0.05469816]), array([1.741935  , 0.05484964]), array([1.780644  , 0.05790348]), array([1.819356  , 0.06102253]), array([1.858065  , 0.05941143]), array([1.896774  , 0.05053329]), array([1.935483  , 0.04716753]), array([1.974195  , 0.04903035])]\n"
     ]
    },
    {
     "data": {
      "text/plain": [
       "51"
      ]
     },
     "execution_count": 448,
     "metadata": {},
     "output_type": "execute_result"
    }
   ],
   "source": [
    "print(data_quiero)\n",
    "len(data_quiero)\n"
   ]
  },
  {
   "cell_type": "code",
   "execution_count": 449,
   "metadata": {},
   "outputs": [],
   "source": [
    "data_quiero = np.array(data_quiero)\n",
    "y_data_quiero = np.zeros(len(data_quiero))\n",
    "x_data_quiero = np.zeros(len(data_quiero))\n",
    "for i in range(len(data_quiero)):\n",
    "    x_data_quiero[i] = data_quiero[i][0]\n",
    "    y_data_quiero[i] = data_quiero[i][1]\n",
    "    \n"
   ]
  },
  {
   "cell_type": "code",
   "execution_count": 479,
   "metadata": {},
   "outputs": [
    {
     "data": {
      "text/plain": [
       "array([0.27862039, 3.91124471, 0.05072727, 0.82436871])"
      ]
     },
     "execution_count": 479,
     "metadata": {},
     "output_type": "execute_result"
    }
   ],
   "source": [
    "a_opt, a_covar = curve_fit(model,x_data_quiero , y_data_quiero, (1,1,1,1))\n",
    "a_opt"
   ]
  },
  {
   "cell_type": "code",
   "execution_count": 480,
   "metadata": {},
   "outputs": [
    {
     "data": {
      "text/plain": [
       "[<matplotlib.lines.Line2D at 0x1cb3cb3a860>]"
      ]
     },
     "execution_count": 480,
     "metadata": {},
     "output_type": "execute_result"
    },
    {
     "data": {
      "image/png": "[encoded data removed]",
      "text/plain": [
       "<Figure size 432x288 with 1 Axes>"
      ]
     },
     "metadata": {
      "needs_background": "light"
     },
     "output_type": "display_data"
    }
   ],
   "source": [
    "x = np.linspace(0,2,100)\n",
    "#lt.plot(x_data,y_data)\n",
    "#lt.plot(x, model(x, *a_opt))\n",
    "plt.plot(x, model(x, *a_opt))\n",
    "plt.plot(x_data_quiero,y_data_quiero)\n",
    "#lt.ylim(-0.5, 1)"
   ]
  },
  {
   "cell_type": "code",
   "execution_count": 481,
   "metadata": {},
   "outputs": [],
   "source": [
    "xmin = np.min(x_data_quiero)\n",
    "xmax = np.max(x_data_quiero)\n",
    "y_model_sorted = np.sort(model(np.linspace(xmin, xmax, 1000), *a_opt))"
   ]
  },
  {
   "cell_type": "code",
   "execution_count": 482,
   "metadata": {},
   "outputs": [],
   "source": [
    "y_data_sorted = np.sort(y_data_quiero)\n",
    "CDF_model = np.array([np.sum(y_model_sorted <= yy) for yy in y_data_sorted]) / len(y_model_sorted)"
   ]
  },
  {
   "cell_type": "code",
   "execution_count": 483,
   "metadata": {},
   "outputs": [
    {
     "data": {
      "text/plain": [
       "[<matplotlib.lines.Line2D at 0x1cb2b0c0eb8>]"
      ]
     },
     "execution_count": 483,
     "metadata": {},
     "output_type": "execute_result"
    },
    {
     "data": {
      "image/png": "[encoded data removed]",
      "text/plain": [
       "<Figure size 432x288 with 1 Axes>"
      ]
     },
     "metadata": {
      "needs_background": "light"
     },
     "output_type": "display_data"
    }
   ],
   "source": [
    "N = len(y_data_sorted)\n",
    "\n",
    "\n",
    "plt.plot(y_data_sorted, np.arange(N) / N, '-^', drawstyle='steps-post')\n",
    "plt.plot(y_data_sorted, np.arange(1, N+1) / N, '-.', drawstyle='steps-post')\n",
    "plt.plot(y_data_sorted, CDF_model, '-x', drawstyle='steps-post')"
   ]
  },
  {
   "cell_type": "code",
   "execution_count": 484,
   "metadata": {},
   "outputs": [],
   "source": [
    "max1 = np.max(CDF_model - np.arange(N) / N)\n",
    "max2 = np.max(np.arange(1,N+1)/N - CDF_model)"
   ]
  },
  {
   "cell_type": "code",
   "execution_count": 485,
   "metadata": {},
   "outputs": [
    {
     "name": "stdout",
     "output_type": "stream",
     "text": [
      "Dn para nuestro fit =  0.21568627450980393\n"
     ]
    }
   ],
   "source": [
    "Dn = max(max1, max2)\n",
    "print(\"Dn para nuestro fit = \", Dn)"
   ]
  },
  {
   "cell_type": "markdown",
   "metadata": {},
   "source": [
    "Ahora calculamos los estadisticos"
   ]
  },
  {
   "cell_type": "code",
   "execution_count": 486,
   "metadata": {},
   "outputs": [
    {
     "name": "stdout",
     "output_type": "stream",
     "text": [
      "Dn_critico =  0.19017184767889067\n"
     ]
    }
   ],
   "source": [
    "from scipy.stats import kstwobign\n",
    "ks_dist = kstwobign() # two-sided, aproximacion para big N\n",
    "alpha = 0.05\n",
    "Dn_critico = ks_dist.ppf(1 - alpha) / np.sqrt(N)\n",
    "print(\"Dn_critico = \", Dn_critico)"
   ]
  },
  {
   "cell_type": "code",
   "execution_count": 487,
   "metadata": {},
   "outputs": [
    {
     "name": "stdout",
     "output_type": "stream",
     "text": [
      "Confidence level kstwobign()  : 0.017388407753564983\n"
     ]
    }
   ],
   "source": [
    "print(\"Confidence level kstwobign()  :\", 1 - ks_dist.cdf(Dn * np.sqrt(N)))"
   ]
  },
  {
   "cell_type": "code",
   "execution_count": 488,
   "metadata": {},
   "outputs": [],
   "source": [
    "from scipy.stats import kstest\n",
    "def cdf(data, model):\n",
    "    return np.array([np.sum(model <= yy) for yy in data]) / len(model)\n",
    "\n",
    "Dn_scipy, prob_scipy = kstest(y_data_sorted, cdf, args=(y_model_sorted,))"
   ]
  },
  {
   "cell_type": "code",
   "execution_count": 489,
   "metadata": {},
   "outputs": [
    {
     "name": "stdout",
     "output_type": "stream",
     "text": [
      "Dn_nuestro :  0.21568627450980393\n",
      "Dn_scipy   :  0.21568627450980393\n"
     ]
    }
   ],
   "source": [
    "print(\"Dn_nuestro : \", Dn)\n",
    "print(\"Dn_scipy   : \", Dn_scipy)"
   ]
  },
  {
   "cell_type": "code",
   "execution_count": 490,
   "metadata": {},
   "outputs": [
    {
     "name": "stdout",
     "output_type": "stream",
     "text": [
      "Nivel de confianza :  0.014601840995660087\n"
     ]
    }
   ],
   "source": [
    "print(\"Nivel de confianza : \", prob_scipy)"
   ]
  },
  {
   "cell_type": "code",
   "execution_count": null,
   "metadata": {},
   "outputs": [],
   "source": []
  },
  {
   "cell_type": "code",
   "execution_count": null,
   "metadata": {},
   "outputs": [],
   "source": []
  }
 ],
 "metadata": {
  "kernelspec": {
   "display_name": "Python 3",
   "language": "python",
   "name": "python3"
  },
  "language_info": {
   "codemirror_mode": {
    "name": "ipython",
    "version": 3
   },
   "file_extension": ".py",
   "mimetype": "text/x-python",
   "name": "python",
   "nbconvert_exporter": "python",
   "pygments_lexer": "ipython3",
   "version": "3.7.1"
  }
 },
 "nbformat": 4,
 "nbformat_minor": 2
}
